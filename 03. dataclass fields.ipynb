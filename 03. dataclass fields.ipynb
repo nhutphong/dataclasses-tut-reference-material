{
 "cells": [
  {
   "cell_type": "markdown",
   "metadata": {},
   "source": [
    "# <center>Dataclasses (Part-3)</center>\n",
    "\n",
    "# field(\\*, default=MISSING, default_factory=MISSING, init=True, repr=True, hash=None, compare=True, metadata=None)\n",
    "\n",
    "- default\n",
    "- default_factory\n",
    "- init\n",
    "- repr\n",
    "- hash\n",
    "- compare\n",
    "- metadata\n",
    "\n",
    "**Note**: \n",
    "- `default` parameter's object is shared by all the objects of a class whereas `default_factory` parameter's object is unique for each object.\n",
    "\n",
    "- Method defined for `default_factory` paramter cannot take any arguments."
   ]
  },
  {
   "cell_type": "code",
   "execution_count": 1,
   "metadata": {},
   "outputs": [],
   "source": [
    "from dataclasses import dataclass, field"
   ]
  },
  {
   "cell_type": "code",
   "execution_count": 2,
   "metadata": {},
   "outputs": [],
   "source": [
    "def get_default_age():\n",
    "    ages = [12,34,56,34,32]\n",
    "    return sum(ages) // len(ages)"
   ]
  },
  {
   "cell_type": "code",
   "execution_count": 3,
   "metadata": {},
   "outputs": [],
   "source": [
    "@dataclass(unsafe_hash=True)\n",
    "class Person:\n",
    "    name: str = field(compare=False)\n",
    "    city: str = field(default=\"Delhi\", hash=False)\n",
    "    age: int = field(default_factory=get_default_age, metadata={'format': 'year'})\n",
    "    salary: int = field(init=False, repr=False, default=0)"
   ]
  },
  {
   "cell_type": "code",
   "execution_count": 4,
   "metadata": {},
   "outputs": [],
   "source": [
    "p = Person(\"Nikhil\")"
   ]
  },
  {
   "cell_type": "code",
   "execution_count": 5,
   "metadata": {},
   "outputs": [
    {
     "data": {
      "text/plain": [
       "Person(name='Nikhil', city='Delhi', age=33)"
      ]
     },
     "execution_count": 5,
     "metadata": {},
     "output_type": "execute_result"
    }
   ],
   "source": [
    "p"
   ]
  },
  {
   "cell_type": "code",
   "execution_count": 6,
   "metadata": {},
   "outputs": [
    {
     "data": {
      "text/plain": [
       "('Nikhil', 33, 'Delhi', 0)"
      ]
     },
     "execution_count": 6,
     "metadata": {},
     "output_type": "execute_result"
    }
   ],
   "source": [
    "p.name, p.age, p.city, p.salary"
   ]
  },
  {
   "cell_type": "code",
   "execution_count": 7,
   "metadata": {},
   "outputs": [
    {
     "data": {
      "text/plain": [
       "3713046991032653306"
      ]
     },
     "execution_count": 7,
     "metadata": {},
     "output_type": "execute_result"
    }
   ],
   "source": [
    "hash(p)"
   ]
  },
  {
   "cell_type": "code",
   "execution_count": 8,
   "metadata": {},
   "outputs": [],
   "source": [
    "p1 = Person(\"Nikhil\")\n",
    "p2 = Person(\"Vivek\")"
   ]
  },
  {
   "cell_type": "code",
   "execution_count": 9,
   "metadata": {},
   "outputs": [
    {
     "data": {
      "text/plain": [
       "True"
      ]
     },
     "execution_count": 9,
     "metadata": {},
     "output_type": "execute_result"
    }
   ],
   "source": [
    "p1 == p2"
   ]
  },
  {
   "cell_type": "code",
   "execution_count": 10,
   "metadata": {},
   "outputs": [
    {
     "data": {
      "text/plain": [
       "'year'"
      ]
     },
     "execution_count": 10,
     "metadata": {},
     "output_type": "execute_result"
    }
   ],
   "source": [
    "p.__dataclass_fields__['age'].metadata['format']"
   ]
  }
 ],
 "metadata": {
  "kernelspec": {
   "display_name": "pyenv37",
   "language": "python",
   "name": "pyenv37"
  },
  "language_info": {
   "codemirror_mode": {
    "name": "ipython",
    "version": 3
   },
   "file_extension": ".py",
   "mimetype": "text/x-python",
   "name": "python",
   "nbconvert_exporter": "python",
   "pygments_lexer": "ipython3",
   "version": "3.7.1"
  }
 },
 "nbformat": 4,
 "nbformat_minor": 2
}
